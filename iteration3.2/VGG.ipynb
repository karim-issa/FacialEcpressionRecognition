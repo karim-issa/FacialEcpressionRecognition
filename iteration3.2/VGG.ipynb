{
 "cells": [
  {
   "cell_type": "markdown",
   "id": "c0e53741",
   "metadata": {},
   "source": [
    "VGG16 model is trained to classify images into one of 1000 categories, such as animals, vehicles, household objects, etc. However, since the model has been pre-trained on a large dataset with a wide variety of object categories, it can be fine-tuned or used as a feature extractor for other image recognition tasks, such as face recognition, emotion recognition, or object detection, by replacing the last classification layer with a layer that fits the new task.\n",
    "\n",
    "In this case the VGG16 model is being used as a feature extractor for face expression recognition. The pre-trained layers of the VGG16 model are frozen and only the last layer is replaced with a new output layer for face expression recognition. The model is then fine-tuned on a dataset containing images of faces with different expressions (sad, happy, neutral, and surprise). The model will predict the expression of a given face image as one of the four categories."
   ]
  },
  {
   "cell_type": "code",
   "execution_count": 1,
   "id": "818bf6d6",
   "metadata": {},
   "outputs": [],
   "source": [
    "# Step 1: Import necessary libraries and dependencies\n",
    "import os\n",
    "import numpy as np\n",
    "import tensorflow as tf\n",
    "import tensorflow.keras as keras\n",
    "from keras.preprocessing.image import ImageDataGenerator\n",
    "from keras.applications.vgg16 import VGG16\n",
    "from keras.models import Model\n",
    "from keras.layers import Dense, Flatten, Dropout\n"
   ]
  },
  {
   "cell_type": "code",
   "execution_count": 2,
   "id": "ffd0cb2f",
   "metadata": {},
   "outputs": [
    {
     "name": "stdout",
     "output_type": "stream",
     "text": [
      "Found 20181 images belonging to 4 classes.\n",
      "Found 5084 images belonging to 4 classes.\n"
     ]
    }
   ],
   "source": [
    "# Step 2: Load and preprocess the dataset\n",
    "train_data_dir = './train'\n",
    "test_data_dir = './test'\n",
    "img_width, img_height = 48, 48\n",
    "batch_size = 128\n",
    "\n",
    "train_datagen = ImageDataGenerator(rescale=1./255, shear_range=0.2, zoom_range=0.2, horizontal_flip=True)\n",
    "test_datagen = ImageDataGenerator(rescale=1./255)\n",
    "\n",
    "train_generator = train_datagen.flow_from_directory(train_data_dir, target_size=(img_width, img_height), batch_size=batch_size, class_mode='categorical')\n",
    "test_generator = test_datagen.flow_from_directory(test_data_dir, target_size=(img_width, img_height), batch_size=batch_size, class_mode='categorical')\n"
   ]
  },
  {
   "cell_type": "code",
   "execution_count": 12,
   "id": "f76b7cd1",
   "metadata": {},
   "outputs": [],
   "source": [
    "# Step 3: Build the VGG16 model with pre-trained weights\n",
    "vgg16_base = VGG16(weights='imagenet', include_top=False, input_shape=(img_width, img_height, 3))"
   ]
  },
  {
   "cell_type": "code",
   "execution_count": 4,
   "id": "c021f057",
   "metadata": {},
   "outputs": [
    {
     "name": "stderr",
     "output_type": "stream",
     "text": [
      "WARNING:absl:`lr` is deprecated, please use `learning_rate` instead, or use the legacy optimizer, e.g.,tf.keras.optimizers.legacy.RMSprop.\n"
     ]
    }
   ],
   "source": [
    "# Step 4: Fine-tune the model for our specific task\n",
    "x = vgg16_base.output\n",
    "x = Flatten()(x)\n",
    "x = Dense(512, activation='relu')(x)\n",
    "x = Dropout(0.5)(x)\n",
    "predictions = Dense(4, activation='softmax')(x)\n",
    "\n",
    "model = Model(inputs=vgg16_base.input, outputs=predictions)\n",
    "\n",
    "for layer in model.layers[:15]:\n",
    "    layer.trainable = False\n",
    "\n",
    "optimizer = keras.optimizers.RMSprop(lr=0.0001, rho=0.9)\n",
    "model.compile(optimizer=optimizer, loss='categorical_crossentropy', metrics=['accuracy'])"
   ]
  },
  {
   "cell_type": "code",
   "execution_count": 5,
   "id": "aff38c09",
   "metadata": {},
   "outputs": [],
   "source": [
    "# Step 4: Fine-tune the model for our specific task\n",
    "x = vgg16_base.output\n",
    "x = Flatten()(x)\n",
    "x = Dense(512, activation='relu')(x)\n",
    "predictions = Dense(4, activation='softmax')(x)\n",
    "\n",
    "model = Model(inputs=vgg16_base.input, outputs=predictions)\n",
    "\n",
    "for layer in vgg16_base.layers:\n",
    "    layer.trainable = False\n",
    "\n",
    "model.compile(optimizer='rmsprop', loss='categorical_crossentropy', metrics=['accuracy'])"
   ]
  },
  {
   "cell_type": "code",
   "execution_count": 6,
   "id": "90cb5166",
   "metadata": {},
   "outputs": [
    {
     "name": "stderr",
     "output_type": "stream",
     "text": [
      "C:\\Users\\Acer\\AppData\\Local\\Temp\\ipykernel_5484\\1639162645.py:6: UserWarning: `Model.fit_generator` is deprecated and will be removed in a future version. Please use `Model.fit`, which supports generators.\n",
      "  history = model.fit_generator(\n"
     ]
    },
    {
     "name": "stdout",
     "output_type": "stream",
     "text": [
      "Epoch 1/13\n",
      "157/157 [==============================] - 310s 2s/step - loss: 1.2095 - accuracy: 0.4555 - val_loss: 1.1458 - val_accuracy: 0.4912 - lr: 0.0010\n",
      "Epoch 2/13\n",
      "157/157 [==============================] - 226s 1s/step - loss: 1.1328 - accuracy: 0.5007 - val_loss: 1.0881 - val_accuracy: 0.5280 - lr: 0.0010\n",
      "Epoch 3/13\n",
      "157/157 [==============================] - 225s 1s/step - loss: 1.1089 - accuracy: 0.5117 - val_loss: 1.1035 - val_accuracy: 0.5138 - lr: 0.0010\n",
      "Epoch 4/13\n",
      "157/157 [==============================] - 226s 1s/step - loss: 1.0853 - accuracy: 0.5296 - val_loss: 1.0448 - val_accuracy: 0.5519 - lr: 0.0010\n",
      "Epoch 5/13\n",
      "157/157 [==============================] - 228s 1s/step - loss: 1.0744 - accuracy: 0.5337 - val_loss: 1.0948 - val_accuracy: 0.5156 - lr: 0.0010\n",
      "Epoch 6/13\n",
      "157/157 [==============================] - 229s 1s/step - loss: 1.0545 - accuracy: 0.5424 - val_loss: 1.0123 - val_accuracy: 0.5733 - lr: 0.0010\n",
      "Epoch 7/13\n",
      "157/157 [==============================] - 230s 1s/step - loss: 1.0462 - accuracy: 0.5495 - val_loss: 1.0210 - val_accuracy: 0.5571 - lr: 0.0010\n",
      "Epoch 8/13\n",
      "157/157 [==============================] - 230s 1s/step - loss: 1.0346 - accuracy: 0.5562 - val_loss: 1.0219 - val_accuracy: 0.5653 - lr: 0.0010\n",
      "Epoch 9/13\n",
      "157/157 [==============================] - 228s 1s/step - loss: 0.9947 - accuracy: 0.5801 - val_loss: 1.0090 - val_accuracy: 0.5705 - lr: 1.0000e-04\n",
      "Epoch 10/13\n",
      "157/157 [==============================] - 239s 2s/step - loss: 0.9883 - accuracy: 0.5826 - val_loss: 1.0071 - val_accuracy: 0.5737 - lr: 1.0000e-04\n",
      "Epoch 11/13\n",
      "157/157 [==============================] - 234s 1s/step - loss: 0.9877 - accuracy: 0.5816 - val_loss: 1.0069 - val_accuracy: 0.5713 - lr: 1.0000e-04\n",
      "Epoch 12/13\n",
      "157/157 [==============================] - 232s 1s/step - loss: 0.9844 - accuracy: 0.5859 - val_loss: 1.0042 - val_accuracy: 0.5753 - lr: 1.0000e-04\n",
      "Epoch 13/13\n",
      "157/157 [==============================] - 233s 1s/step - loss: 0.9794 - accuracy: 0.5888 - val_loss: 1.0051 - val_accuracy: 0.5719 - lr: 1.0000e-04\n"
     ]
    }
   ],
   "source": [
    "# Step 5: Train the model on the training data\n",
    "early_stopping = keras.callbacks.EarlyStopping(monitor='val_loss', patience=5)\n",
    "reduce_lr = keras.callbacks.ReduceLROnPlateau(monitor='val_loss', factor=0.1, patience=2)\n",
    "\n",
    "epochs = 13\n",
    "history = model.fit_generator(\n",
    "    train_generator,\n",
    "    steps_per_epoch=train_generator.samples//batch_size,\n",
    "    epochs=epochs,\n",
    "    validation_data=test_generator,\n",
    "    validation_steps=test_generator.samples//batch_size,\n",
    "    callbacks=[early_stopping, reduce_lr])"
   ]
  },
  {
   "cell_type": "code",
   "execution_count": 7,
   "id": "3ca1e0d0",
   "metadata": {},
   "outputs": [
    {
     "name": "stderr",
     "output_type": "stream",
     "text": [
      "C:\\Users\\Acer\\AppData\\Local\\Temp\\ipykernel_5484\\1427092123.py:1: UserWarning: `Model.evaluate_generator` is deprecated and will be removed in a future version. Please use `Model.evaluate`, which supports generators.\n",
      "  score = model.evaluate_generator(test_generator, test_generator.samples//batch_size)\n"
     ]
    },
    {
     "name": "stdout",
     "output_type": "stream",
     "text": [
      "Test loss: 1.003007173538208\n",
      "Test accuracy: 0.5747195482254028\n"
     ]
    }
   ],
   "source": [
    "score = model.evaluate_generator(test_generator, test_generator.samples//batch_size)\n",
    "print('Test loss:', score[0])\n",
    "print('Test accuracy:', score[1])"
   ]
  },
  {
   "cell_type": "code",
   "execution_count": 16,
   "id": "39db0f10",
   "metadata": {
    "scrolled": true
   },
   "outputs": [
    {
     "name": "stdout",
     "output_type": "stream",
     "text": [
      "1/1 [==============================] - 0s 33ms/step\n"
     ]
    },
    {
     "data": {
      "image/png": "[encoded data removed]",
      "text/plain": [
       "<Figure size 432x288 with 1 Axes>"
      ]
     },
     "metadata": {
      "needs_background": "light"
     },
     "output_type": "display_data"
    },
    {
     "name": "stdout",
     "output_type": "stream",
     "text": [
      "Predicted label: happy\n",
      "Actual label: happy\n"
     ]
    }
   ],
   "source": [
    "from PIL import Image\n",
    "import matplotlib.pyplot as plt\n",
    "\n",
    "# Step 7: Make predictions on new images\n",
    "test_img = Image.open('omar.jpg').resize((img_width, img_height))\n",
    "\n",
    "test_img_array = np.array(test_img) / 255.0\n",
    "test_img_array = test_img_array.reshape((1,) + test_img_array.shape)\n",
    "\n",
    "class_indices = train_generator.class_indices\n",
    "labels = {v: k for k, v in class_indices.items()}\n",
    "\n",
    "predicted_class_probs = model.predict(test_img_array)\n",
    "predicted_class = np.argmax(predicted_class_probs, axis=1)\n",
    "predicted_label = labels[predicted_class[0]]\n",
    "actual_label = \"happy\"\n",
    "plt.imshow(img)\n",
    "plt.show()\n",
    "print(\"Predicted label:\", predicted_label)\n",
    "print(\"Actual label:\", actual_label)"
   ]
  },
  {
   "cell_type": "code",
   "execution_count": 23,
   "id": "abf56a01",
   "metadata": {},
   "outputs": [
    {
     "name": "stdout",
     "output_type": "stream",
     "text": [
      "1/1 [==============================] - 0s 32ms/step\n"
     ]
    },
    {
     "data": {
      "image/png": "[encoded data removed]",
      "text/plain": [
       "<Figure size 432x288 with 1 Axes>"
      ]
     },
     "metadata": {
      "needs_background": "light"
     },
     "output_type": "display_data"
    },
    {
     "name": "stdout",
     "output_type": "stream",
     "text": [
      "Predicted label: sad\n",
      "Actual label: surprised\n"
     ]
    }
   ],
   "source": [
    "from PIL import Image\n",
    "import matplotlib.pyplot as plt\n",
    "\n",
    "img = Image.open('surp.jpg')\n",
    "# Step 7: Make predictions on new images\n",
    "test_img = img.resize((img_width, img_height))\n",
    "\n",
    "test_img_array = np.array(test_img) / 255.0\n",
    "test_img_array = test_img_array.reshape((1,) + test_img_array.shape)\n",
    "\n",
    "class_indices = train_generator.class_indices\n",
    "labels = {v: k for k, v in class_indices.items()}\n",
    "\n",
    "predicted_class_probs = model.predict(test_img_array)\n",
    "predicted_class = np.argmax(predicted_class_probs, axis=1)\n",
    "predicted_label = labels[predicted_class[0]]\n",
    "actual_label = \"surprised\"\n",
    "plt.imshow(test_img)\n",
    "plt.show()\n",
    "print(\"Predicted label:\", predicted_label)\n",
    "print(\"Actual label:\", actual_label)"
   ]
  },
  {
   "cell_type": "code",
   "execution_count": null,
   "id": "84f3a745",
   "metadata": {},
   "outputs": [],
   "source": []
  }
 ],
 "metadata": {
  "kernelspec": {
   "display_name": "Python 3 (ipykernel)",
   "language": "python",
   "name": "python3"
  },
  "language_info": {
   "codemirror_mode": {
    "name": "ipython",
    "version": 3
   },
   "file_extension": ".py",
   "mimetype": "text/x-python",
   "name": "python",
   "nbconvert_exporter": "python",
   "pygments_lexer": "ipython3",
   "version": "3.9.12"
  }
 },
 "nbformat": 4,
 "nbformat_minor": 5
}
